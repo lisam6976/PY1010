{
 "cells": [
  {
   "cell_type": "markdown",
   "id": "bac128ed-7a15-4b50-92b1-a3b8b83ca7ce",
   "metadata": {},
   "source": [
    "# Arbeidskrav 1 - PY1010\n",
    "## Samanlikning av årlege kostnadar for elbil og bensinbil\n",
    "### Lisa Lindseth Samuelsen"
   ]
  },
  {
   "cell_type": "markdown",
   "id": "471a28db-da7b-4ef1-a5a5-f618f0b8645e",
   "metadata": {},
   "source": [
    "## Årlege kostnadar for bensinbil"
   ]
  },
  {
   "cell_type": "code",
   "execution_count": 81,
   "id": "f8893a46-8ef5-4114-9a53-502172ba64e9",
   "metadata": {},
   "outputs": [
    {
     "name": "stdout",
     "output_type": "stream",
     "text": [
      "F = 7500\n",
      "T = 3058.7000000000003\n",
      "D = 10000\n",
      "B = 3000.0\n",
      "TK = 23558.7\n"
     ]
    }
   ],
   "source": [
    "F = 7500 # [forsikring bensinbil]\n",
    "print(\"F =\", F)\n",
    "T = 8.38 * 365 # [trafikkforsikringsavgift]\n",
    "print(\"T =\", T)\n",
    "KM = 10000 # [km/år]\n",
    "D = 1*KM # [pris på drivstoff]\n",
    "print(\"D =\", D)\n",
    "B = 0.3*KM # [årleg bomavgift]\n",
    "print(\"B =\", B)\n",
    "TK = F + T + D + B\n",
    "print(\"TK =\", TK) # [totalkostnad per år for bensinbil]"
   ]
  },
  {
   "cell_type": "markdown",
   "id": "a66b2bf1-d125-46cd-bd93-432cef35db6d",
   "metadata": {},
   "source": [
    "## Årlege kostnadar for elbil"
   ]
  },
  {
   "cell_type": "code",
   "execution_count": 82,
   "id": "02c1de0d-9aa0-4298-a17a-67c1370517eb",
   "metadata": {},
   "outputs": [
    {
     "name": "stdout",
     "output_type": "stream",
     "text": [
      "FE = 5000\n",
      "T = 3058.7000000000003\n",
      "S = 4000.0\n",
      "BE = 1000.0\n"
     ]
    }
   ],
   "source": [
    "FE = 5000 # [forsikring elbil]\n",
    "print(\"FE =\", FE)\n",
    "print(\"T =\", T) # [trafikkforsikringsavgift]\n",
    "S = (KM*0.2)*2 # [km ganger antall kwh per km, ganger 2 kroner per kwh er lik strømpris]\n",
    "print(\"S =\", S)\n",
    "BE = 0.1*KM # [bomavgift for elbil]\n",
    "print(\"BE =\", BE)\n",
    "\n"
   ]
  },
  {
   "cell_type": "code",
   "execution_count": 83,
   "id": "8b31d9e4-5f9b-41da-8a89-24a92d09d8e5",
   "metadata": {},
   "outputs": [
    {
     "name": "stdout",
     "output_type": "stream",
     "text": [
      "TKE = 13058.7\n"
     ]
    }
   ],
   "source": [
    "TKE = FE + T + S + BE\n",
    "print(\"TKE =\", TKE)"
   ]
  },
  {
   "cell_type": "markdown",
   "id": "947b183f-d12e-4b10-8cc4-bc3fd9469b65",
   "metadata": {},
   "source": [
    "## Kostnadsdifferanse"
   ]
  },
  {
   "cell_type": "code",
   "execution_count": 84,
   "id": "900095fe-72b9-4255-91d0-5c19e38639c2",
   "metadata": {},
   "outputs": [
    {
     "name": "stdout",
     "output_type": "stream",
     "text": [
      "K = 10500.0\n"
     ]
    }
   ],
   "source": [
    "K = TK - TKE\n",
    "print(\"K =\", K)"
   ]
  },
  {
   "cell_type": "code",
   "execution_count": 85,
   "id": "752993f2-041f-4a86-9a9e-22c8d93353da",
   "metadata": {},
   "outputs": [
    {
     "data": {
      "text/plain": [
       "' det kostar altså 10500 kroner meir i året å ha og bruke bensinbil enn elbil '"
      ]
     },
     "execution_count": 85,
     "metadata": {},
     "output_type": "execute_result"
    }
   ],
   "source": [
    "\"\"\" det kostar altså 10500 kroner meir i året å ha og bruke bensinbil enn elbil \"\"\""
   ]
  },
  {
   "cell_type": "markdown",
   "id": "b6ec6bbe-9980-4a66-821e-db3d381708fd",
   "metadata": {},
   "source": [
    "### Kostnadsdifferansen er 10500kr i året "
   ]
  },
  {
   "cell_type": "code",
   "execution_count": null,
   "id": "44edec9e-5070-4de4-b1ba-eecc2e8fb1cd",
   "metadata": {},
   "outputs": [],
   "source": []
  }
 ],
 "metadata": {
  "kernelspec": {
   "display_name": "Python 3 (ipykernel)",
   "language": "python",
   "name": "python3"
  },
  "language_info": {
   "codemirror_mode": {
    "name": "ipython",
    "version": 3
   },
   "file_extension": ".py",
   "mimetype": "text/x-python",
   "name": "python",
   "nbconvert_exporter": "python",
   "pygments_lexer": "ipython3",
   "version": "3.12.7"
  }
 },
 "nbformat": 4,
 "nbformat_minor": 5
}
